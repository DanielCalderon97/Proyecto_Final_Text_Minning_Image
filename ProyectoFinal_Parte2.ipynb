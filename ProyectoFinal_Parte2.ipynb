{
  "nbformat": 4,
  "nbformat_minor": 0,
  "metadata": {
    "colab": {
      "provenance": [],
      "gpuType": "T4",
      "authorship_tag": "ABX9TyMlAHXiuJUoTszSVk3VU+nT",
      "include_colab_link": true
    },
    "kernelspec": {
      "name": "python3",
      "display_name": "Python 3"
    },
    "language_info": {
      "name": "python"
    },
    "accelerator": "GPU"
  },
  "cells": [
    {
      "cell_type": "markdown",
      "metadata": {
        "id": "view-in-github",
        "colab_type": "text"
      },
      "source": [
        "<a href=\"https://colab.research.google.com/github/DanielCalderon97/Proyecto_Final_Text_Minning_Image/blob/main/ProyectoFinal_Parte2.ipynb\" target=\"_parent\"><img src=\"https://colab.research.google.com/assets/colab-badge.svg\" alt=\"Open In Colab\"/></a>"
      ]
    },
    {
      "cell_type": "markdown",
      "source": [
        "# Proyecto Final Problema 2\n",
        "### Daniel Calderón - 24000152"
      ],
      "metadata": {
        "id": "vJbOhp6YDK1C"
      }
    },
    {
      "cell_type": "markdown",
      "source": [
        "#### Parte 1: Dataset"
      ],
      "metadata": {
        "id": "zO5w8VrJDItG"
      }
    },
    {
      "cell_type": "code",
      "source": [
        "# Parametros que nos servirán durante todo el desarrollo\n",
        "\n",
        "SEED = 2025\n",
        "IMG_SIZE = (180, 180)       # (alto, ancho)\n",
        "COLOR_MODE = \"rgb\"          # use el 'rgb'\n",
        "BATCH_SIZE = 32\n",
        "VAL_SPLIT = 0.20\n",
        "TEST_SPLIT = 0.20\n",
        "EPOCHS = 10\n",
        "USE_AUGMENTATION = True\n",
        "SAVE_TO_DRIVE = False\n",
        "\n",
        "# Nombre de la carpeta principal dentro del ZIP\n",
        "DATASET_DIR_NAME = \"Fruits_Vegetables_Dataset(12000)\"\n",
        "\n",
        "print(\"Parámetros OK\")"
      ],
      "metadata": {
        "colab": {
          "base_uri": "https://localhost:8080/"
        },
        "id": "JlQ9YUYuC6bs",
        "outputId": "8c4b7992-4584-4b70-8e71-bd301ff2038a"
      },
      "execution_count": 11,
      "outputs": [
        {
          "output_type": "stream",
          "name": "stdout",
          "text": [
            "Parámetros OK\n"
          ]
        }
      ]
    },
    {
      "cell_type": "code",
      "source": [
        "# Montamos Google Drive\n",
        "# Ruta al archivo en tu Google Drive\n",
        "\n",
        "from google.colab import drive\n",
        "drive.mount('/content/drive')\n",
        "\n",
        "import os, zipfile, shutil\n",
        "\n",
        "zip_path = \"/content/drive/MyDrive/Colab Notebooks/ProyectoFinal/archive.zip\"\n",
        "assert os.path.exists(zip_path), f\"No se encontró: {zip_path}\"\n",
        "print(\"ZIP:\", zip_path)\n",
        "\n",
        "# Extraemos contenido\n",
        "\n",
        "EXTRACT_DIR = \"/content/dataset_full\"\n",
        "if os.path.exists(EXTRACT_DIR):\n",
        "    shutil.rmtree(EXTRACT_DIR)\n",
        "os.makedirs(EXTRACT_DIR, exist_ok=True)\n",
        "\n",
        "with zipfile.ZipFile(zip_path, 'r') as z:\n",
        "    z.extractall(EXTRACT_DIR)\n",
        "print(\"Descomprimido en:\", EXTRACT_DIR)\n",
        "\n",
        "# Declaramos rutas\n",
        "DATA_ROOT = f\"{EXTRACT_DIR}/{DATASET_DIR_NAME}\"\n",
        "FRUITS_DIR = f\"{DATA_ROOT}/Fruits\"\n",
        "VEGGIES_DIR = f\"{DATA_ROOT}/Vegetables\"\n",
        "\n",
        "for p in [DATA_ROOT, FRUITS_DIR, VEGGIES_DIR]:\n",
        "    assert os.path.exists(p), f\"Ruta no encontrada: {p}\"\n",
        "print(\"Fruits dir:\", FRUITS_DIR)\n",
        "print(\"Vegetables dir:\", VEGGIES_DIR)"
      ],
      "metadata": {
        "colab": {
          "base_uri": "https://localhost:8080/"
        },
        "id": "Y05x6fc4DqWw",
        "outputId": "0747a829-61e1-4d59-e35f-a091502eef6d"
      },
      "execution_count": 12,
      "outputs": [
        {
          "output_type": "stream",
          "name": "stdout",
          "text": [
            "Drive already mounted at /content/drive; to attempt to forcibly remount, call drive.mount(\"/content/drive\", force_remount=True).\n",
            "ZIP: /content/drive/MyDrive/Colab Notebooks/ProyectoFinal/archive.zip\n",
            "Descomprimido en: /content/dataset_full\n",
            "Fruits dir: /content/dataset_full/Fruits_Vegetables_Dataset(12000)/Fruits\n",
            "Vegetables dir: /content/dataset_full/Fruits_Vegetables_Dataset(12000)/Vegetables\n"
          ]
        }
      ]
    },
    {
      "cell_type": "code",
      "source": [
        "# Mapa: [subcarpetas_de_origen]\n",
        "# Para el trabajo escogí en Frutas: Manzana, Banano y Naranjas || y en Verduras: tomate, papa y zanahoria\n",
        "# Unimos ambas carpetas de los alimentos: las imagenes \"frescas\" y las \"podridas\"\n",
        "\n",
        "CLASS_MAP = {\n",
        "    \"Apple\":  [\"FreshApple\",  \"RottenApple\"],\n",
        "    \"Banana\": [\"FreshBanana\", \"RottenBanana\"],\n",
        "    \"Orange\": [\"FreshOrange\", \"RottenOrange\"],\n",
        "    \"Carrot\": [\"FreshCarrot\", \"RottenCarrot\"],\n",
        "    \"Potato\": [\"FreshPotato\", \"RottenPotato\"],\n",
        "    \"Tomato\": [\"FreshTomato\", \"RottenTomato\"],\n",
        "}\n",
        "\n",
        "print(\"Clases seleccionadas:\", list(CLASS_MAP.keys()))"
      ],
      "metadata": {
        "colab": {
          "base_uri": "https://localhost:8080/"
        },
        "id": "rMgrgk6UKWpo",
        "outputId": "7db3d25d-f55b-4081-df08-06b42b78eec7"
      },
      "execution_count": 13,
      "outputs": [
        {
          "output_type": "stream",
          "name": "stdout",
          "text": [
            "Clases seleccionadas: ['Apple', 'Banana', 'Orange', 'Carrot', 'Potato', 'Tomato']\n"
          ]
        }
      ]
    },
    {
      "cell_type": "code",
      "source": [
        "# Construimos conjunto **RAW** con clases unificadas\n",
        "\n",
        "import os, shutil, glob\n",
        "\n",
        "RAW_DIR = \"/content/data_raw\"\n",
        "if os.path.exists(RAW_DIR):\n",
        "    shutil.rmtree(RAW_DIR)\n",
        "os.makedirs(RAW_DIR, exist_ok=True)\n",
        "\n",
        "def copy_merge_class(dst_class, subfolders):\n",
        "    dst_dir = os.path.join(RAW_DIR, dst_class)\n",
        "    os.makedirs(dst_dir, exist_ok=True)\n",
        "    for sub in subfolders:\n",
        "        # Determinar si la subcarpeta viene de Frutas o Vegetales\n",
        "        src = None\n",
        "        if os.path.exists(os.path.join(FRUITS_DIR, sub)):\n",
        "            src = os.path.join(FRUITS_DIR, sub)\n",
        "        elif os.path.exists(os.path.join(VEGGIES_DIR, sub)):\n",
        "            src = os.path.join(VEGGIES_DIR, sub)\n",
        "        else:\n",
        "            raise FileNotFoundError(f\"No existe subcarpeta: {sub} en Fruits/Vegetables\")\n",
        "        # Copiar imágenes\n",
        "        for ext in [\"*.jpg\",\"*.jpeg\",\"*.png\",\"*.bmp\",\"*.tif\",\"*.tiff\",\"*.webp\"]:\n",
        "            for img in glob.glob(os.path.join(src, ext)):\n",
        "                shutil.copy2(img, os.path.join(dst_dir, os.path.basename(img)))\n",
        "\n",
        "for cls, subs in CLASS_MAP.items():\n",
        "    copy_merge_class(cls, subs)\n",
        "\n",
        "# Verificación rápida de la cantidad de imagenes por carpeta\n",
        "for cls in sorted(os.listdir(RAW_DIR)):\n",
        "    n = len(os.listdir(os.path.join(RAW_DIR, cls)))\n",
        "    print(f\"{cls:>8}: {n} imágenes\")"
      ],
      "metadata": {
        "colab": {
          "base_uri": "https://localhost:8080/"
        },
        "id": "EDm4NkM3KlyW",
        "outputId": "82477a14-0e94-43ae-837a-4260243e706c"
      },
      "execution_count": 14,
      "outputs": [
        {
          "output_type": "stream",
          "name": "stdout",
          "text": [
            "   Apple: 1199 imágenes\n",
            "  Banana: 1195 imágenes\n",
            "  Carrot: 1199 imágenes\n",
            "  Orange: 1200 imágenes\n",
            "  Potato: 1198 imágenes\n",
            "  Tomato: 1199 imágenes\n"
          ]
        }
      ]
    },
    {
      "cell_type": "code",
      "source": [
        "# Split train/val/test (estratificado)\n",
        "\n",
        "import random, math\n",
        "\n",
        "BASE_DIR = \"/content/data_split\"\n",
        "if os.path.exists(BASE_DIR):\n",
        "    shutil.rmtree(BASE_DIR)\n",
        "os.makedirs(BASE_DIR, exist_ok=True)\n",
        "for sp in [\"train\",\"val\",\"test\"]:\n",
        "    os.makedirs(os.path.join(BASE_DIR, sp), exist_ok=True)\n",
        "\n",
        "train_ratio = 1.0 - (VAL_SPLIT + TEST_SPLIT)\n",
        "val_ratio   = VAL_SPLIT\n",
        "test_ratio  = TEST_SPLIT\n",
        "print(f\"Ratios -> train={train_ratio:.2f}, val={val_ratio:.2f}, test={test_ratio:.2f}\")\n",
        "\n",
        "def stratified_split(class_dir, seed=SEED):\n",
        "    imgs = []\n",
        "    for ext in [\"*.jpg\",\"*.jpeg\",\"*.png\",\"*.bmp\",\"*.tif\",\"*.tiff\",\"*.webp\"]:\n",
        "        imgs += glob.glob(os.path.join(class_dir, ext))\n",
        "    imgs = sorted(imgs)\n",
        "    rnd = random.Random(seed); rnd.shuffle(imgs)\n",
        "    n = len(imgs)\n",
        "    n_train = int(n*train_ratio); n_val = int(n*val_ratio)\n",
        "    return imgs[:n_train], imgs[n_train:n_train+n_val], imgs[n_train+n_val:]\n",
        "\n",
        "def copy_files(files, dst_dir):\n",
        "    os.makedirs(dst_dir, exist_ok=True)\n",
        "    for src in files:\n",
        "        shutil.copy2(src, os.path.join(dst_dir, os.path.basename(src)))\n",
        "\n",
        "counts = {}\n",
        "for cls in sorted(os.listdir(RAW_DIR)):\n",
        "    src_cls_dir = os.path.join(RAW_DIR, cls)\n",
        "    tr, va, te = stratified_split(src_cls_dir, seed=SEED)\n",
        "    counts[cls] = dict(train=len(tr), val=len(va), test=len(te), total=len(os.listdir(src_cls_dir)))\n",
        "    copy_files(tr, os.path.join(BASE_DIR, \"train\", cls))\n",
        "    copy_files(va, os.path.join(BASE_DIR, \"val\", cls))\n",
        "    copy_files(te, os.path.join(BASE_DIR, \"test\", cls))\n",
        "\n",
        "print(\"Conteos por clase:\")\n",
        "for k,v in counts.items():\n",
        "    print(f\"{k:>8} -> train={v['train']}, val={v['val']}, test={v['test']} (total={v['total']})\")"
      ],
      "metadata": {
        "colab": {
          "base_uri": "https://localhost:8080/"
        },
        "id": "XjubaZeRKqkf",
        "outputId": "e92ffd0e-fe7d-4ce7-e3c2-432a8465ef1e"
      },
      "execution_count": 15,
      "outputs": [
        {
          "output_type": "stream",
          "name": "stdout",
          "text": [
            "Ratios -> train=0.60, val=0.20, test=0.20\n",
            "Conteos por clase:\n",
            "   Apple -> train=719, val=239, test=241 (total=1199)\n",
            "  Banana -> train=717, val=239, test=239 (total=1195)\n",
            "  Carrot -> train=719, val=239, test=241 (total=1199)\n",
            "  Orange -> train=720, val=240, test=240 (total=1200)\n",
            "  Potato -> train=718, val=239, test=241 (total=1198)\n",
            "  Tomato -> train=719, val=239, test=241 (total=1199)\n"
          ]
        }
      ]
    },
    {
      "cell_type": "code",
      "source": [
        "# Generators + Data Augmentation\n",
        "\n",
        "import tensorflow as tf\n",
        "from tensorflow.keras.preprocessing.image import ImageDataGenerator\n",
        "\n",
        "if USE_AUGMENTATION:\n",
        "    train_datagen = ImageDataGenerator(\n",
        "        rescale=1./255,\n",
        "        rotation_range=25,\n",
        "        width_shift_range=0.15, height_shift_range=0.15,\n",
        "        zoom_range=0.2, shear_range=0.15,\n",
        "        horizontal_flip=True,\n",
        "        brightness_range=(0.8,1.2),\n",
        "        fill_mode=\"nearest\"\n",
        "    )\n",
        "else:\n",
        "    train_datagen = ImageDataGenerator(rescale=1./255)\n",
        "\n",
        "val_test_datagen = ImageDataGenerator(rescale=1./255)\n",
        "\n",
        "train_gen = train_datagen.flow_from_directory(\n",
        "    os.path.join(BASE_DIR, \"train\"),\n",
        "    target_size=IMG_SIZE, color_mode=COLOR_MODE,\n",
        "    class_mode=\"categorical\", batch_size=BATCH_SIZE,\n",
        "    shuffle=True, seed=SEED\n",
        ")\n",
        "val_gen = val_test_datagen.flow_from_directory(\n",
        "    os.path.join(BASE_DIR, \"val\"),\n",
        "    target_size=IMG_SIZE, color_mode=COLOR_MODE,\n",
        "    class_mode=\"categorical\", batch_size=BATCH_SIZE,\n",
        "    shuffle=False\n",
        ")\n",
        "test_gen = val_test_datagen.flow_from_directory(\n",
        "    os.path.join(BASE_DIR, \"test\"),\n",
        "    target_size=IMG_SIZE, color_mode=COLOR_MODE,\n",
        "    class_mode=\"categorical\", batch_size=BATCH_SIZE,\n",
        "    shuffle=False\n",
        ")\n",
        "\n",
        "num_classes = train_gen.num_classes\n",
        "class_indices = train_gen.class_indices\n",
        "idx_to_class = {v:k for k,v in class_indices.items()}\n",
        "print(\"Clases:\", class_indices)"
      ],
      "metadata": {
        "colab": {
          "base_uri": "https://localhost:8080/"
        },
        "id": "__NPJEfLKwoS",
        "outputId": "fbceda99-9a47-475c-dbf2-9712dfea9e55"
      },
      "execution_count": 16,
      "outputs": [
        {
          "output_type": "stream",
          "name": "stdout",
          "text": [
            "Found 4301 images belonging to 6 classes.\n",
            "Found 1433 images belonging to 6 classes.\n",
            "Found 1442 images belonging to 6 classes.\n",
            "Clases: {'Apple': 0, 'Banana': 1, 'Carrot': 2, 'Orange': 3, 'Potato': 4, 'Tomato': 5}\n"
          ]
        }
      ]
    },
    {
      "cell_type": "code",
      "source": [
        "# Modelo CNN\n",
        "from tensorflow.keras import layers, models, callbacks, optimizers\n",
        "\n",
        "channels = 3 if COLOR_MODE==\"rgb\" else 1\n",
        "input_shape = (IMG_SIZE[0], IMG_SIZE[1], channels)\n",
        "\n",
        "def build_cnn(input_shape, num_classes):\n",
        "    x_in = layers.Input(shape=input_shape)\n",
        "    x = layers.Conv2D(32,3,padding=\"same\",activation=\"relu\")(x_in)\n",
        "    x = layers.BatchNormalization()(x); x = layers.MaxPooling2D()(x)\n",
        "    x = layers.Conv2D(64,3,padding=\"same\",activation=\"relu\")(x)\n",
        "    x = layers.BatchNormalization()(x); x = layers.MaxPooling2D()(x)\n",
        "    x = layers.Conv2D(128,3,padding=\"same\",activation=\"relu\")(x)\n",
        "    x = layers.BatchNormalization()(x); x = layers.MaxPooling2D()(x)\n",
        "    x = layers.Conv2D(256,3,padding=\"same\",activation=\"relu\")(x)\n",
        "    x = layers.BatchNormalization()(x); x = layers.MaxPooling2D()(x)\n",
        "    x = layers.GlobalAveragePooling2D()(x)\n",
        "    x = layers.Dropout(0.4)(x)\n",
        "    x = layers.Dense(128, activation=\"relu\")(x)\n",
        "    x = layers.Dropout(0.3)(x)\n",
        "    out = layers.Dense(num_classes, activation=\"softmax\")(x)\n",
        "    return models.Model(x_in, out, name=\"FruitsVeg_CNN_paths\")\n",
        "\n",
        "model = build_cnn(input_shape, num_classes)\n",
        "model.compile(optimizer=optimizers.Adam(1e-3), loss=\"categorical_crossentropy\", metrics=[\"accuracy\"])\n",
        "model.summary()"
      ],
      "metadata": {
        "colab": {
          "base_uri": "https://localhost:8080/",
          "height": 785
        },
        "id": "5NsYdYAMK0b1",
        "outputId": "f06be389-9ad4-498f-bf59-88d29cafded4"
      },
      "execution_count": 17,
      "outputs": [
        {
          "output_type": "display_data",
          "data": {
            "text/plain": [
              "\u001b[1mModel: \"FruitsVeg_CNN_paths\"\u001b[0m\n"
            ],
            "text/html": [
              "<pre style=\"white-space:pre;overflow-x:auto;line-height:normal;font-family:Menlo,'DejaVu Sans Mono',consolas,'Courier New',monospace\"><span style=\"font-weight: bold\">Model: \"FruitsVeg_CNN_paths\"</span>\n",
              "</pre>\n"
            ]
          },
          "metadata": {}
        },
        {
          "output_type": "display_data",
          "data": {
            "text/plain": [
              "┏━━━━━━━━━━━━━━━━━━━━━━━━━━━━━━━━━┳━━━━━━━━━━━━━━━━━━━━━━━━┳━━━━━━━━━━━━━━━┓\n",
              "┃\u001b[1m \u001b[0m\u001b[1mLayer (type)                   \u001b[0m\u001b[1m \u001b[0m┃\u001b[1m \u001b[0m\u001b[1mOutput Shape          \u001b[0m\u001b[1m \u001b[0m┃\u001b[1m \u001b[0m\u001b[1m      Param #\u001b[0m\u001b[1m \u001b[0m┃\n",
              "┡━━━━━━━━━━━━━━━━━━━━━━━━━━━━━━━━━╇━━━━━━━━━━━━━━━━━━━━━━━━╇━━━━━━━━━━━━━━━┩\n",
              "│ input_layer_1 (\u001b[38;5;33mInputLayer\u001b[0m)      │ (\u001b[38;5;45mNone\u001b[0m, \u001b[38;5;34m180\u001b[0m, \u001b[38;5;34m180\u001b[0m, \u001b[38;5;34m3\u001b[0m)    │             \u001b[38;5;34m0\u001b[0m │\n",
              "├─────────────────────────────────┼────────────────────────┼───────────────┤\n",
              "│ conv2d_4 (\u001b[38;5;33mConv2D\u001b[0m)               │ (\u001b[38;5;45mNone\u001b[0m, \u001b[38;5;34m180\u001b[0m, \u001b[38;5;34m180\u001b[0m, \u001b[38;5;34m32\u001b[0m)   │           \u001b[38;5;34m896\u001b[0m │\n",
              "├─────────────────────────────────┼────────────────────────┼───────────────┤\n",
              "│ batch_normalization_4           │ (\u001b[38;5;45mNone\u001b[0m, \u001b[38;5;34m180\u001b[0m, \u001b[38;5;34m180\u001b[0m, \u001b[38;5;34m32\u001b[0m)   │           \u001b[38;5;34m128\u001b[0m │\n",
              "│ (\u001b[38;5;33mBatchNormalization\u001b[0m)            │                        │               │\n",
              "├─────────────────────────────────┼────────────────────────┼───────────────┤\n",
              "│ max_pooling2d_4 (\u001b[38;5;33mMaxPooling2D\u001b[0m)  │ (\u001b[38;5;45mNone\u001b[0m, \u001b[38;5;34m90\u001b[0m, \u001b[38;5;34m90\u001b[0m, \u001b[38;5;34m32\u001b[0m)     │             \u001b[38;5;34m0\u001b[0m │\n",
              "├─────────────────────────────────┼────────────────────────┼───────────────┤\n",
              "│ conv2d_5 (\u001b[38;5;33mConv2D\u001b[0m)               │ (\u001b[38;5;45mNone\u001b[0m, \u001b[38;5;34m90\u001b[0m, \u001b[38;5;34m90\u001b[0m, \u001b[38;5;34m64\u001b[0m)     │        \u001b[38;5;34m18,496\u001b[0m │\n",
              "├─────────────────────────────────┼────────────────────────┼───────────────┤\n",
              "│ batch_normalization_5           │ (\u001b[38;5;45mNone\u001b[0m, \u001b[38;5;34m90\u001b[0m, \u001b[38;5;34m90\u001b[0m, \u001b[38;5;34m64\u001b[0m)     │           \u001b[38;5;34m256\u001b[0m │\n",
              "│ (\u001b[38;5;33mBatchNormalization\u001b[0m)            │                        │               │\n",
              "├─────────────────────────────────┼────────────────────────┼───────────────┤\n",
              "│ max_pooling2d_5 (\u001b[38;5;33mMaxPooling2D\u001b[0m)  │ (\u001b[38;5;45mNone\u001b[0m, \u001b[38;5;34m45\u001b[0m, \u001b[38;5;34m45\u001b[0m, \u001b[38;5;34m64\u001b[0m)     │             \u001b[38;5;34m0\u001b[0m │\n",
              "├─────────────────────────────────┼────────────────────────┼───────────────┤\n",
              "│ conv2d_6 (\u001b[38;5;33mConv2D\u001b[0m)               │ (\u001b[38;5;45mNone\u001b[0m, \u001b[38;5;34m45\u001b[0m, \u001b[38;5;34m45\u001b[0m, \u001b[38;5;34m128\u001b[0m)    │        \u001b[38;5;34m73,856\u001b[0m │\n",
              "├─────────────────────────────────┼────────────────────────┼───────────────┤\n",
              "│ batch_normalization_6           │ (\u001b[38;5;45mNone\u001b[0m, \u001b[38;5;34m45\u001b[0m, \u001b[38;5;34m45\u001b[0m, \u001b[38;5;34m128\u001b[0m)    │           \u001b[38;5;34m512\u001b[0m │\n",
              "│ (\u001b[38;5;33mBatchNormalization\u001b[0m)            │                        │               │\n",
              "├─────────────────────────────────┼────────────────────────┼───────────────┤\n",
              "│ max_pooling2d_6 (\u001b[38;5;33mMaxPooling2D\u001b[0m)  │ (\u001b[38;5;45mNone\u001b[0m, \u001b[38;5;34m22\u001b[0m, \u001b[38;5;34m22\u001b[0m, \u001b[38;5;34m128\u001b[0m)    │             \u001b[38;5;34m0\u001b[0m │\n",
              "├─────────────────────────────────┼────────────────────────┼───────────────┤\n",
              "│ conv2d_7 (\u001b[38;5;33mConv2D\u001b[0m)               │ (\u001b[38;5;45mNone\u001b[0m, \u001b[38;5;34m22\u001b[0m, \u001b[38;5;34m22\u001b[0m, \u001b[38;5;34m256\u001b[0m)    │       \u001b[38;5;34m295,168\u001b[0m │\n",
              "├─────────────────────────────────┼────────────────────────┼───────────────┤\n",
              "│ batch_normalization_7           │ (\u001b[38;5;45mNone\u001b[0m, \u001b[38;5;34m22\u001b[0m, \u001b[38;5;34m22\u001b[0m, \u001b[38;5;34m256\u001b[0m)    │         \u001b[38;5;34m1,024\u001b[0m │\n",
              "│ (\u001b[38;5;33mBatchNormalization\u001b[0m)            │                        │               │\n",
              "├─────────────────────────────────┼────────────────────────┼───────────────┤\n",
              "│ max_pooling2d_7 (\u001b[38;5;33mMaxPooling2D\u001b[0m)  │ (\u001b[38;5;45mNone\u001b[0m, \u001b[38;5;34m11\u001b[0m, \u001b[38;5;34m11\u001b[0m, \u001b[38;5;34m256\u001b[0m)    │             \u001b[38;5;34m0\u001b[0m │\n",
              "├─────────────────────────────────┼────────────────────────┼───────────────┤\n",
              "│ global_average_pooling2d_1      │ (\u001b[38;5;45mNone\u001b[0m, \u001b[38;5;34m256\u001b[0m)            │             \u001b[38;5;34m0\u001b[0m │\n",
              "│ (\u001b[38;5;33mGlobalAveragePooling2D\u001b[0m)        │                        │               │\n",
              "├─────────────────────────────────┼────────────────────────┼───────────────┤\n",
              "│ dropout_2 (\u001b[38;5;33mDropout\u001b[0m)             │ (\u001b[38;5;45mNone\u001b[0m, \u001b[38;5;34m256\u001b[0m)            │             \u001b[38;5;34m0\u001b[0m │\n",
              "├─────────────────────────────────┼────────────────────────┼───────────────┤\n",
              "│ dense_2 (\u001b[38;5;33mDense\u001b[0m)                 │ (\u001b[38;5;45mNone\u001b[0m, \u001b[38;5;34m128\u001b[0m)            │        \u001b[38;5;34m32,896\u001b[0m │\n",
              "├─────────────────────────────────┼────────────────────────┼───────────────┤\n",
              "│ dropout_3 (\u001b[38;5;33mDropout\u001b[0m)             │ (\u001b[38;5;45mNone\u001b[0m, \u001b[38;5;34m128\u001b[0m)            │             \u001b[38;5;34m0\u001b[0m │\n",
              "├─────────────────────────────────┼────────────────────────┼───────────────┤\n",
              "│ dense_3 (\u001b[38;5;33mDense\u001b[0m)                 │ (\u001b[38;5;45mNone\u001b[0m, \u001b[38;5;34m6\u001b[0m)              │           \u001b[38;5;34m774\u001b[0m │\n",
              "└─────────────────────────────────┴────────────────────────┴───────────────┘\n"
            ],
            "text/html": [
              "<pre style=\"white-space:pre;overflow-x:auto;line-height:normal;font-family:Menlo,'DejaVu Sans Mono',consolas,'Courier New',monospace\">┏━━━━━━━━━━━━━━━━━━━━━━━━━━━━━━━━━┳━━━━━━━━━━━━━━━━━━━━━━━━┳━━━━━━━━━━━━━━━┓\n",
              "┃<span style=\"font-weight: bold\"> Layer (type)                    </span>┃<span style=\"font-weight: bold\"> Output Shape           </span>┃<span style=\"font-weight: bold\">       Param # </span>┃\n",
              "┡━━━━━━━━━━━━━━━━━━━━━━━━━━━━━━━━━╇━━━━━━━━━━━━━━━━━━━━━━━━╇━━━━━━━━━━━━━━━┩\n",
              "│ input_layer_1 (<span style=\"color: #0087ff; text-decoration-color: #0087ff\">InputLayer</span>)      │ (<span style=\"color: #00d7ff; text-decoration-color: #00d7ff\">None</span>, <span style=\"color: #00af00; text-decoration-color: #00af00\">180</span>, <span style=\"color: #00af00; text-decoration-color: #00af00\">180</span>, <span style=\"color: #00af00; text-decoration-color: #00af00\">3</span>)    │             <span style=\"color: #00af00; text-decoration-color: #00af00\">0</span> │\n",
              "├─────────────────────────────────┼────────────────────────┼───────────────┤\n",
              "│ conv2d_4 (<span style=\"color: #0087ff; text-decoration-color: #0087ff\">Conv2D</span>)               │ (<span style=\"color: #00d7ff; text-decoration-color: #00d7ff\">None</span>, <span style=\"color: #00af00; text-decoration-color: #00af00\">180</span>, <span style=\"color: #00af00; text-decoration-color: #00af00\">180</span>, <span style=\"color: #00af00; text-decoration-color: #00af00\">32</span>)   │           <span style=\"color: #00af00; text-decoration-color: #00af00\">896</span> │\n",
              "├─────────────────────────────────┼────────────────────────┼───────────────┤\n",
              "│ batch_normalization_4           │ (<span style=\"color: #00d7ff; text-decoration-color: #00d7ff\">None</span>, <span style=\"color: #00af00; text-decoration-color: #00af00\">180</span>, <span style=\"color: #00af00; text-decoration-color: #00af00\">180</span>, <span style=\"color: #00af00; text-decoration-color: #00af00\">32</span>)   │           <span style=\"color: #00af00; text-decoration-color: #00af00\">128</span> │\n",
              "│ (<span style=\"color: #0087ff; text-decoration-color: #0087ff\">BatchNormalization</span>)            │                        │               │\n",
              "├─────────────────────────────────┼────────────────────────┼───────────────┤\n",
              "│ max_pooling2d_4 (<span style=\"color: #0087ff; text-decoration-color: #0087ff\">MaxPooling2D</span>)  │ (<span style=\"color: #00d7ff; text-decoration-color: #00d7ff\">None</span>, <span style=\"color: #00af00; text-decoration-color: #00af00\">90</span>, <span style=\"color: #00af00; text-decoration-color: #00af00\">90</span>, <span style=\"color: #00af00; text-decoration-color: #00af00\">32</span>)     │             <span style=\"color: #00af00; text-decoration-color: #00af00\">0</span> │\n",
              "├─────────────────────────────────┼────────────────────────┼───────────────┤\n",
              "│ conv2d_5 (<span style=\"color: #0087ff; text-decoration-color: #0087ff\">Conv2D</span>)               │ (<span style=\"color: #00d7ff; text-decoration-color: #00d7ff\">None</span>, <span style=\"color: #00af00; text-decoration-color: #00af00\">90</span>, <span style=\"color: #00af00; text-decoration-color: #00af00\">90</span>, <span style=\"color: #00af00; text-decoration-color: #00af00\">64</span>)     │        <span style=\"color: #00af00; text-decoration-color: #00af00\">18,496</span> │\n",
              "├─────────────────────────────────┼────────────────────────┼───────────────┤\n",
              "│ batch_normalization_5           │ (<span style=\"color: #00d7ff; text-decoration-color: #00d7ff\">None</span>, <span style=\"color: #00af00; text-decoration-color: #00af00\">90</span>, <span style=\"color: #00af00; text-decoration-color: #00af00\">90</span>, <span style=\"color: #00af00; text-decoration-color: #00af00\">64</span>)     │           <span style=\"color: #00af00; text-decoration-color: #00af00\">256</span> │\n",
              "│ (<span style=\"color: #0087ff; text-decoration-color: #0087ff\">BatchNormalization</span>)            │                        │               │\n",
              "├─────────────────────────────────┼────────────────────────┼───────────────┤\n",
              "│ max_pooling2d_5 (<span style=\"color: #0087ff; text-decoration-color: #0087ff\">MaxPooling2D</span>)  │ (<span style=\"color: #00d7ff; text-decoration-color: #00d7ff\">None</span>, <span style=\"color: #00af00; text-decoration-color: #00af00\">45</span>, <span style=\"color: #00af00; text-decoration-color: #00af00\">45</span>, <span style=\"color: #00af00; text-decoration-color: #00af00\">64</span>)     │             <span style=\"color: #00af00; text-decoration-color: #00af00\">0</span> │\n",
              "├─────────────────────────────────┼────────────────────────┼───────────────┤\n",
              "│ conv2d_6 (<span style=\"color: #0087ff; text-decoration-color: #0087ff\">Conv2D</span>)               │ (<span style=\"color: #00d7ff; text-decoration-color: #00d7ff\">None</span>, <span style=\"color: #00af00; text-decoration-color: #00af00\">45</span>, <span style=\"color: #00af00; text-decoration-color: #00af00\">45</span>, <span style=\"color: #00af00; text-decoration-color: #00af00\">128</span>)    │        <span style=\"color: #00af00; text-decoration-color: #00af00\">73,856</span> │\n",
              "├─────────────────────────────────┼────────────────────────┼───────────────┤\n",
              "│ batch_normalization_6           │ (<span style=\"color: #00d7ff; text-decoration-color: #00d7ff\">None</span>, <span style=\"color: #00af00; text-decoration-color: #00af00\">45</span>, <span style=\"color: #00af00; text-decoration-color: #00af00\">45</span>, <span style=\"color: #00af00; text-decoration-color: #00af00\">128</span>)    │           <span style=\"color: #00af00; text-decoration-color: #00af00\">512</span> │\n",
              "│ (<span style=\"color: #0087ff; text-decoration-color: #0087ff\">BatchNormalization</span>)            │                        │               │\n",
              "├─────────────────────────────────┼────────────────────────┼───────────────┤\n",
              "│ max_pooling2d_6 (<span style=\"color: #0087ff; text-decoration-color: #0087ff\">MaxPooling2D</span>)  │ (<span style=\"color: #00d7ff; text-decoration-color: #00d7ff\">None</span>, <span style=\"color: #00af00; text-decoration-color: #00af00\">22</span>, <span style=\"color: #00af00; text-decoration-color: #00af00\">22</span>, <span style=\"color: #00af00; text-decoration-color: #00af00\">128</span>)    │             <span style=\"color: #00af00; text-decoration-color: #00af00\">0</span> │\n",
              "├─────────────────────────────────┼────────────────────────┼───────────────┤\n",
              "│ conv2d_7 (<span style=\"color: #0087ff; text-decoration-color: #0087ff\">Conv2D</span>)               │ (<span style=\"color: #00d7ff; text-decoration-color: #00d7ff\">None</span>, <span style=\"color: #00af00; text-decoration-color: #00af00\">22</span>, <span style=\"color: #00af00; text-decoration-color: #00af00\">22</span>, <span style=\"color: #00af00; text-decoration-color: #00af00\">256</span>)    │       <span style=\"color: #00af00; text-decoration-color: #00af00\">295,168</span> │\n",
              "├─────────────────────────────────┼────────────────────────┼───────────────┤\n",
              "│ batch_normalization_7           │ (<span style=\"color: #00d7ff; text-decoration-color: #00d7ff\">None</span>, <span style=\"color: #00af00; text-decoration-color: #00af00\">22</span>, <span style=\"color: #00af00; text-decoration-color: #00af00\">22</span>, <span style=\"color: #00af00; text-decoration-color: #00af00\">256</span>)    │         <span style=\"color: #00af00; text-decoration-color: #00af00\">1,024</span> │\n",
              "│ (<span style=\"color: #0087ff; text-decoration-color: #0087ff\">BatchNormalization</span>)            │                        │               │\n",
              "├─────────────────────────────────┼────────────────────────┼───────────────┤\n",
              "│ max_pooling2d_7 (<span style=\"color: #0087ff; text-decoration-color: #0087ff\">MaxPooling2D</span>)  │ (<span style=\"color: #00d7ff; text-decoration-color: #00d7ff\">None</span>, <span style=\"color: #00af00; text-decoration-color: #00af00\">11</span>, <span style=\"color: #00af00; text-decoration-color: #00af00\">11</span>, <span style=\"color: #00af00; text-decoration-color: #00af00\">256</span>)    │             <span style=\"color: #00af00; text-decoration-color: #00af00\">0</span> │\n",
              "├─────────────────────────────────┼────────────────────────┼───────────────┤\n",
              "│ global_average_pooling2d_1      │ (<span style=\"color: #00d7ff; text-decoration-color: #00d7ff\">None</span>, <span style=\"color: #00af00; text-decoration-color: #00af00\">256</span>)            │             <span style=\"color: #00af00; text-decoration-color: #00af00\">0</span> │\n",
              "│ (<span style=\"color: #0087ff; text-decoration-color: #0087ff\">GlobalAveragePooling2D</span>)        │                        │               │\n",
              "├─────────────────────────────────┼────────────────────────┼───────────────┤\n",
              "│ dropout_2 (<span style=\"color: #0087ff; text-decoration-color: #0087ff\">Dropout</span>)             │ (<span style=\"color: #00d7ff; text-decoration-color: #00d7ff\">None</span>, <span style=\"color: #00af00; text-decoration-color: #00af00\">256</span>)            │             <span style=\"color: #00af00; text-decoration-color: #00af00\">0</span> │\n",
              "├─────────────────────────────────┼────────────────────────┼───────────────┤\n",
              "│ dense_2 (<span style=\"color: #0087ff; text-decoration-color: #0087ff\">Dense</span>)                 │ (<span style=\"color: #00d7ff; text-decoration-color: #00d7ff\">None</span>, <span style=\"color: #00af00; text-decoration-color: #00af00\">128</span>)            │        <span style=\"color: #00af00; text-decoration-color: #00af00\">32,896</span> │\n",
              "├─────────────────────────────────┼────────────────────────┼───────────────┤\n",
              "│ dropout_3 (<span style=\"color: #0087ff; text-decoration-color: #0087ff\">Dropout</span>)             │ (<span style=\"color: #00d7ff; text-decoration-color: #00d7ff\">None</span>, <span style=\"color: #00af00; text-decoration-color: #00af00\">128</span>)            │             <span style=\"color: #00af00; text-decoration-color: #00af00\">0</span> │\n",
              "├─────────────────────────────────┼────────────────────────┼───────────────┤\n",
              "│ dense_3 (<span style=\"color: #0087ff; text-decoration-color: #0087ff\">Dense</span>)                 │ (<span style=\"color: #00d7ff; text-decoration-color: #00d7ff\">None</span>, <span style=\"color: #00af00; text-decoration-color: #00af00\">6</span>)              │           <span style=\"color: #00af00; text-decoration-color: #00af00\">774</span> │\n",
              "└─────────────────────────────────┴────────────────────────┴───────────────┘\n",
              "</pre>\n"
            ]
          },
          "metadata": {}
        },
        {
          "output_type": "display_data",
          "data": {
            "text/plain": [
              "\u001b[1m Total params: \u001b[0m\u001b[38;5;34m424,006\u001b[0m (1.62 MB)\n"
            ],
            "text/html": [
              "<pre style=\"white-space:pre;overflow-x:auto;line-height:normal;font-family:Menlo,'DejaVu Sans Mono',consolas,'Courier New',monospace\"><span style=\"font-weight: bold\"> Total params: </span><span style=\"color: #00af00; text-decoration-color: #00af00\">424,006</span> (1.62 MB)\n",
              "</pre>\n"
            ]
          },
          "metadata": {}
        },
        {
          "output_type": "display_data",
          "data": {
            "text/plain": [
              "\u001b[1m Trainable params: \u001b[0m\u001b[38;5;34m423,046\u001b[0m (1.61 MB)\n"
            ],
            "text/html": [
              "<pre style=\"white-space:pre;overflow-x:auto;line-height:normal;font-family:Menlo,'DejaVu Sans Mono',consolas,'Courier New',monospace\"><span style=\"font-weight: bold\"> Trainable params: </span><span style=\"color: #00af00; text-decoration-color: #00af00\">423,046</span> (1.61 MB)\n",
              "</pre>\n"
            ]
          },
          "metadata": {}
        },
        {
          "output_type": "display_data",
          "data": {
            "text/plain": [
              "\u001b[1m Non-trainable params: \u001b[0m\u001b[38;5;34m960\u001b[0m (3.75 KB)\n"
            ],
            "text/html": [
              "<pre style=\"white-space:pre;overflow-x:auto;line-height:normal;font-family:Menlo,'DejaVu Sans Mono',consolas,'Courier New',monospace\"><span style=\"font-weight: bold\"> Non-trainable params: </span><span style=\"color: #00af00; text-decoration-color: #00af00\">960</span> (3.75 KB)\n",
              "</pre>\n"
            ]
          },
          "metadata": {}
        }
      ]
    },
    {
      "cell_type": "code",
      "source": [
        "#Entrenamiento\n",
        "\n",
        "es = callbacks.EarlyStopping(monitor=\"val_loss\", patience=3, restore_best_weights=True)\n",
        "rlr = callbacks.ReduceLROnPlateau(monitor=\"val_loss\", factor=0.5, patience=2, min_lr=1e-6, verbose=1)\n",
        "\n",
        "history = model.fit(\n",
        "    train_gen, validation_data=val_gen,\n",
        "    epochs=EPOCHS, callbacks=[es, rlr], verbose=1\n",
        ")\n",
        "print(\"Entrenamiento finalizado.\")"
      ],
      "metadata": {
        "colab": {
          "base_uri": "https://localhost:8080/"
        },
        "id": "8Z-TJWLLK5Dr",
        "outputId": "2772b10a-585b-4cbf-8307-1c36dfb83917"
      },
      "execution_count": 18,
      "outputs": [
        {
          "output_type": "stream",
          "name": "stderr",
          "text": [
            "/usr/local/lib/python3.12/dist-packages/keras/src/trainers/data_adapters/py_dataset_adapter.py:121: UserWarning: Your `PyDataset` class should call `super().__init__(**kwargs)` in its constructor. `**kwargs` can include `workers`, `use_multiprocessing`, `max_queue_size`. Do not pass these arguments to `fit()`, as they will be ignored.\n",
            "  self._warn_if_super_not_called()\n"
          ]
        },
        {
          "output_type": "stream",
          "name": "stdout",
          "text": [
            "Epoch 1/10\n",
            "\u001b[1m 20/135\u001b[0m \u001b[32m━━\u001b[0m\u001b[37m━━━━━━━━━━━━━━━━━━\u001b[0m \u001b[1m1:03\u001b[0m 556ms/step - accuracy: 0.2892 - loss: 2.0213"
          ]
        },
        {
          "output_type": "stream",
          "name": "stderr",
          "text": [
            "/usr/local/lib/python3.12/dist-packages/PIL/Image.py:1047: UserWarning: Palette images with Transparency expressed in bytes should be converted to RGBA images\n",
            "  warnings.warn(\n"
          ]
        },
        {
          "output_type": "stream",
          "name": "stdout",
          "text": [
            "\u001b[1m135/135\u001b[0m \u001b[32m━━━━━━━━━━━━━━━━━━━━\u001b[0m\u001b[37m\u001b[0m \u001b[1m66s\u001b[0m 428ms/step - accuracy: 0.3981 - loss: 1.5986 - val_accuracy: 0.1668 - val_loss: 3.2067 - learning_rate: 0.0010\n",
            "Epoch 2/10\n",
            "\u001b[1m135/135\u001b[0m \u001b[32m━━━━━━━━━━━━━━━━━━━━\u001b[0m\u001b[37m\u001b[0m \u001b[1m56s\u001b[0m 411ms/step - accuracy: 0.6345 - loss: 1.0366 - val_accuracy: 0.1675 - val_loss: 4.2480 - learning_rate: 0.0010\n",
            "Epoch 3/10\n",
            "\u001b[1m135/135\u001b[0m \u001b[32m━━━━━━━━━━━━━━━━━━━━\u001b[0m\u001b[37m\u001b[0m \u001b[1m53s\u001b[0m 389ms/step - accuracy: 0.6796 - loss: 0.8791 - val_accuracy: 0.2945 - val_loss: 2.6512 - learning_rate: 0.0010\n",
            "Epoch 4/10\n",
            "\u001b[1m135/135\u001b[0m \u001b[32m━━━━━━━━━━━━━━━━━━━━\u001b[0m\u001b[37m\u001b[0m \u001b[1m53s\u001b[0m 390ms/step - accuracy: 0.7515 - loss: 0.7164 - val_accuracy: 0.3824 - val_loss: 2.3056 - learning_rate: 0.0010\n",
            "Epoch 5/10\n",
            "\u001b[1m135/135\u001b[0m \u001b[32m━━━━━━━━━━━━━━━━━━━━\u001b[0m\u001b[37m\u001b[0m \u001b[1m82s\u001b[0m 394ms/step - accuracy: 0.7808 - loss: 0.6291 - val_accuracy: 0.7153 - val_loss: 0.8195 - learning_rate: 0.0010\n",
            "Epoch 6/10\n",
            "\u001b[1m135/135\u001b[0m \u001b[32m━━━━━━━━━━━━━━━━━━━━\u001b[0m\u001b[37m\u001b[0m \u001b[1m53s\u001b[0m 393ms/step - accuracy: 0.8010 - loss: 0.5812 - val_accuracy: 0.7606 - val_loss: 0.7180 - learning_rate: 0.0010\n",
            "Epoch 7/10\n",
            "\u001b[1m135/135\u001b[0m \u001b[32m━━━━━━━━━━━━━━━━━━━━\u001b[0m\u001b[37m\u001b[0m \u001b[1m53s\u001b[0m 392ms/step - accuracy: 0.8180 - loss: 0.5226 - val_accuracy: 0.7746 - val_loss: 0.6752 - learning_rate: 0.0010\n",
            "Epoch 8/10\n",
            "\u001b[1m135/135\u001b[0m \u001b[32m━━━━━━━━━━━━━━━━━━━━\u001b[0m\u001b[37m\u001b[0m \u001b[1m53s\u001b[0m 392ms/step - accuracy: 0.8281 - loss: 0.4960 - val_accuracy: 0.8332 - val_loss: 0.5025 - learning_rate: 0.0010\n",
            "Epoch 9/10\n",
            "\u001b[1m135/135\u001b[0m \u001b[32m━━━━━━━━━━━━━━━━━━━━\u001b[0m\u001b[37m\u001b[0m \u001b[1m53s\u001b[0m 393ms/step - accuracy: 0.8319 - loss: 0.5009 - val_accuracy: 0.8437 - val_loss: 0.4959 - learning_rate: 0.0010\n",
            "Epoch 10/10\n",
            "\u001b[1m135/135\u001b[0m \u001b[32m━━━━━━━━━━━━━━━━━━━━\u001b[0m\u001b[37m\u001b[0m \u001b[1m53s\u001b[0m 394ms/step - accuracy: 0.8535 - loss: 0.4426 - val_accuracy: 0.8179 - val_loss: 0.5600 - learning_rate: 0.0010\n",
            "Entrenamiento finalizado.\n"
          ]
        }
      ]
    },
    {
      "cell_type": "code",
      "source": [
        "# Curvas, evaluación y matriz de confusión\n",
        "import matplotlib.pyplot as plt\n",
        "import numpy as np\n",
        "from sklearn.metrics import classification_report, confusion_matrix\n",
        "\n",
        "# Curvas\n",
        "hist = history.history\n",
        "plt.figure(figsize=(6,4)); plt.plot(hist[\"accuracy\"], label=\"train_acc\"); plt.plot(hist[\"val_accuracy\"], label=\"val_acc\")\n",
        "plt.title(\"Accuracy\"); plt.xlabel(\"Epoch\"); plt.ylabel(\"Acc\"); plt.legend(); plt.show()\n",
        "plt.figure(figsize=(6,4)); plt.plot(hist[\"loss\"], label=\"train_loss\"); plt.plot(hist[\"val_loss\"], label=\"val_loss\")\n",
        "plt.title(\"Loss\"); plt.xlabel(\"Epoch\"); plt.ylabel(\"Loss\"); plt.legend(); plt.show()\n",
        "\n",
        "# Test\n",
        "test_loss, test_acc = model.evaluate(test_gen, verbose=0)\n",
        "print(f\"Test accuracy: {test_acc:.4f} | loss: {test_loss:.4f}\")\n",
        "\n",
        "probs = model.predict(test_gen, verbose=0)\n",
        "y_pred = np.argmax(probs, axis=1)\n",
        "y_true = test_gen.classes\n",
        "\n",
        "print(\"\\nClassification Report:\")\n",
        "print(classification_report(y_true, y_pred, target_names=[idx_to_class[i] for i in range(len(idx_to_class))]))\n",
        "\n",
        "cm = confusion_matrix(y_true, y_pred)\n",
        "plt.figure(figsize=(6,5)); plt.imshow(cm, interpolation=\"nearest\"); plt.title(\"Matriz de confusión\"); plt.colorbar()\n",
        "ticks = np.arange(len(idx_to_class))\n",
        "plt.xticks(ticks, [idx_to_class[i] for i in ticks], rotation=45)\n",
        "plt.yticks(ticks, [idx_to_class[i] for i in ticks])\n",
        "plt.xlabel(\"Predicción\"); plt.ylabel(\"Real\"); plt.tight_layout(); plt.show()\n"
      ],
      "metadata": {
        "colab": {
          "base_uri": "https://localhost:8080/",
          "height": 1000
        },
        "id": "Hvqh2OFdK977",
        "outputId": "e727ddf2-1fda-4dd1-ebe2-4ddc96d4c458"
      },
      "execution_count": 19,
      "outputs": [
        {
          "output_type": "display_data",
          "data": {
            "text/plain": [
              "<Figure size 600x400 with 1 Axes>"
            ],
            "image/png": "[encoded data removed]"
          },
          "metadata": {}
        },
        {
          "output_type": "display_data",
          "data": {
            "text/plain": [
              "<Figure size 600x400 with 1 Axes>"
            ],
            "image/png": "[encoded data removed]"
          },
          "metadata": {}
        },
        {
          "output_type": "stream",
          "name": "stdout",
          "text": [
            "Test accuracy: 0.8481 | loss: 0.4385\n",
            "\n",
            "Classification Report:\n",
            "              precision    recall  f1-score   support\n",
            "\n",
            "       Apple       0.88      0.71      0.79       240\n",
            "      Banana       0.79      0.93      0.85       239\n",
            "      Carrot       0.82      0.89      0.85       241\n",
            "      Orange       0.91      0.84      0.87       240\n",
            "      Potato       0.79      0.89      0.84       241\n",
            "      Tomato       0.94      0.83      0.88       241\n",
            "\n",
            "    accuracy                           0.85      1442\n",
            "   macro avg       0.85      0.85      0.85      1442\n",
            "weighted avg       0.86      0.85      0.85      1442\n",
            "\n"
          ]
        },
        {
          "output_type": "display_data",
          "data": {
            "text/plain": [
              "<Figure size 600x500 with 2 Axes>"
            ],
            "image/png": "[encoded data removed]"
          },
          "metadata": {}
        }
      ]
    }
  ]
}